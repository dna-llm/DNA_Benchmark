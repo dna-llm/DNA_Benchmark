{
 "cells": [
  {
   "cell_type": "code",
   "execution_count": 8,
   "metadata": {},
   "outputs": [],
   "source": [
    "# instatiate embedder\n",
    "import bend\n",
    "\n",
    "nt_embedder = bend.embedders.NucleotideTransformerEmbedder('InstaDeepAI/nucleotide-transformer-500m-1000g')"
   ]
  },
  {
   "cell_type": "code",
   "execution_count": 2,
   "metadata": {},
   "outputs": [],
   "source": [
    "# create generator to load and embed BED regions\n",
    "from bend.io.sequtils import embed_from_multilabled_bed_gen, Fasta\n",
    "\n",
    "gen = embed_from_multilabled_bed_gen('samples.bed', '../meta/chr19.fa', \n",
    "                                     label_column_idx=6, label_depth=125, \n",
    "                                     embedder=nt_embedder)"
   ]
  },
  {
   "cell_type": "code",
   "execution_count": 3,
   "metadata": {},
   "outputs": [
    {
     "name": "stderr",
     "output_type": "stream",
     "text": [
      "0it [00:00, ?it/s]"
     ]
    },
    {
     "data": {
      "text/plain": [
       "{'inputs': TensorSpec(shape=(None, None), dtype=tf.float32, name=None),\n",
       " 'outputs': TensorSpec(shape=(None,), dtype=tf.int64, name=None)}"
      ]
     },
     "execution_count": 3,
     "metadata": {},
     "output_type": "execute_result"
    }
   ],
   "source": [
    "# convert to tf.data.Dataset\n",
    "from bioio.tf import dataset_from_iterable\n",
    "\n",
    "dataset = dataset_from_iterable(gen)\n",
    "dataset.element_spec"
   ]
  },
  {
   "cell_type": "code",
   "execution_count": 4,
   "metadata": {},
   "outputs": [
    {
     "name": "stderr",
     "output_type": "stream",
     "text": [
      "89it [00:31,  2.81it/s]\n"
     ]
    }
   ],
   "source": [
    "# write dataset to tfrecord (this may take a while, sequences are embedded on-the-fly)\n",
    "from bioio.tf import dataset_to_tfrecord\n",
    "\n",
    "dataset_to_tfrecord(dataset, 'samples.tfrecord')"
   ]
  },
  {
   "cell_type": "code",
   "execution_count": 7,
   "metadata": {},
   "outputs": [
    {
     "name": "stdout",
     "output_type": "stream",
     "text": [
      "torch.Size([8, 100, 1280]) torch.Size([8, 125])\n"
     ]
    }
   ],
   "source": [
    "# create torch dataset & dataloader from tfrecord\n",
    "import torch\n",
    "from bend.io.datasets import TFRecordIterableDataset\n",
    "\n",
    "ds = TFRecordIterableDataset(['samples.tfrecord'])\n",
    "dl = torch.utils.data.DataLoader(ds, batch_size=8, num_workers=0)\n",
    "\n",
    "x, y = next(iter(dl))\n",
    "print(x.shape, y.shape)"
   ]
  }
 ],
 "metadata": {
  "kernelspec": {
   "display_name": "bioinf",
   "language": "python",
   "name": "python3"
  },
  "language_info": {
   "codemirror_mode": {
    "name": "ipython",
    "version": 3
   },
   "file_extension": ".py",
   "mimetype": "text/x-python",
   "name": "python",
   "nbconvert_exporter": "python",
   "pygments_lexer": "ipython3",
   "version": "3.10.2"
  },
  "orig_nbformat": 4
 },
 "nbformat": 4,
 "nbformat_minor": 2
}
